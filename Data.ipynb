{
 "cells": [
  {
   "cell_type": "code",
   "execution_count": null,
   "metadata": {},
   "outputs": [],
   "source": [
    "import pandas as pd\n",
    "import numpy as np"
   ]
  },
  {
   "cell_type": "code",
   "execution_count": null,
   "metadata": {},
   "outputs": [],
   "source": [
    "ID_Labels = pd.read_csv('ID Labels.csv')\n",
    "India_Data = pd.read_csv('India Data.csv')\n",
    "Indicator_Change_Hex = pd.read_csv('Hex Data.csv')\n",
    "PC_Data = pd.read_csv('PC Data.csv')\n",
    "State_Data = pd.read_csv('State Data.csv')"
   ]
  },
  {
   "cell_type": "code",
   "execution_count": null,
   "metadata": {},
   "outputs": [],
   "source": [
    "ID_Labels.head()"
   ]
  },
  {
   "cell_type": "code",
   "execution_count": null,
   "metadata": {},
   "outputs": [],
   "source": [
    "PC_IDs = [x for x in ID_Labels['PC ID'].values if str(x) != 'nan'][1:]\n",
    "PCs = [x for x in ID_Labels['Unnamed: 1'].values if str(x) != 'nan'][1:]\n",
    "States = [x for x in ID_Labels['Unnamed: 3'].values if str(x) != 'nan'][1:]\n",
    "\n",
    "IDsToPC = {}\n",
    "\n",
    "for i in range(len(PC_IDs)):\n",
    "    IDsToPC[int(PC_IDs[i])] = (PCs[i], States[i])\n",
    "\n",
    "print(IDsToPC) #Creates a dictionary mapping PC IDs to a tuple containing both the PC and State names"
   ]
  },
  {
   "cell_type": "code",
   "execution_count": null,
   "metadata": {},
   "outputs": [],
   "source": [
    "StateIDs = PC_IDs = [x for x in ID_Labels['State ID'].values if str(x) != 'nan'][1:]\n",
    "IDsToState = {}\n",
    "StateToID = {}\n",
    "\n",
    "for i in range(len(StateIDs)):\n",
    "    IDsToState[int(StateIDs[i])] = States[i]\n",
    "    StateToID[States[i]] = int(StateIDs[i])\n",
    "\n",
    "print(IDsToState) #Creates 2 dictionaries: one mapping State ID to State name and one mapping State name to State ID"
   ]
  },
  {
   "cell_type": "code",
   "execution_count": null,
   "metadata": {},
   "outputs": [],
   "source": [
    "IndicatorIDs = [x for x in ID_Labels['Indicator ID'].values if str(x) != 'nan'][1:]\n",
    "Indicators = [x for x in ID_Labels['Unnamed: 5'].values if str(x) != 'nan'][1:]\n",
    "IDsToIndicator = {}\n",
    "for i in range(len(IndicatorIDs)):\n",
    "    IDsToIndicator[IndicatorIDs[i]] = Indicators[i]\n",
    "\n",
    "print(IDsToIndicator) #Creates a dictionary mapping Indicator IDs to the name of the Indicator"
   ]
  },
  {
   "cell_type": "code",
   "execution_count": null,
   "metadata": {},
   "outputs": [],
   "source": [
    "PCList = [IDsToPC[i][0] for i in IDsToPC]\n",
    "StateList = [IDsToPC[i][1] for i in IDsToPC]\n",
    "PCIDsList = [i for i in IDsToPC]\n",
    "\n",
    "data = {'ID': PCIDsList, 'PC': PCList, 'State': StateList} #Creates a dictionary that will be used for final csv file\n",
    "#print(PCList)\n",
    "#print(StateList)"
   ]
  },
  {
   "cell_type": "code",
   "execution_count": null,
   "metadata": {},
   "outputs": [],
   "source": [
    "IndiaIndicators = {}\n",
    "IndicatorDirection = {}\n",
    "\n",
    "for index, row in India_Data.iterrows():\n",
    "    IndicatorDirection[row['Indicator ID']] = row['Indicator Direction']\n",
    "    if str(row['All India Prevalence 2021']) != 'nan':\n",
    "        if row['Indicator Direction'] == 1:\n",
    "            IndiaIndicators[row['Indicator ID']] = row['All India Prevalence 2021']\n",
    "        else:\n",
    "            IndiaIndicators[row['Indicator ID']] = -1*row['All India Prevalence 2021']\n",
    "\n",
    "#print(IndiaIndicators)\n",
    "print(IndicatorDirection)\n",
    "\n",
    "#Creates a dictionary IndicatorDirection that maps Indicator IDs to the direction of the dictionary\n",
    "#Creates second dictionary IndiaIndicators that carries all indicators of India, adjusting for thier directions"
   ]
  },
  {
   "cell_type": "code",
   "execution_count": null,
   "metadata": {},
   "outputs": [],
   "source": [
    "StateIndicators = {}\n",
    "for i in IDsToState:\n",
    "    IndividualStateData = State_Data[State_Data['State ID'] == int(i)]\n",
    "    IndividualStateIndicators = {}\n",
    "    for index, row in IndividualStateData.iterrows():\n",
    "        if str(row['State Prevalence 2021']) != 'nan':\n",
    "            if IndicatorDirection[row['Indicator ID']] == 1:\n",
    "                IndividualStateIndicators[row['Indicator ID']] = row['State Prevalence 2021']\n",
    "            else:\n",
    "                IndividualStateIndicators[row['Indicator ID']] = -1*row['State Prevalence 2021']\n",
    "    StateIndicators[IDsToState[i]] = IndividualStateIndicators\n",
    "\n",
    "print([i for i in StateIndicators]) #Creates dictionary that carries all indicators for each state of India, adjusting for thier directions"
   ]
  },
  {
   "cell_type": "code",
   "execution_count": null,
   "metadata": {},
   "outputs": [],
   "source": [
    "def common_and_greater(PC, larger):\n",
    "    '''Returns how many indicators are common between the PC and State/India \n",
    "    dataset along with how many PC indicators are greater'''\n",
    "    common = 0\n",
    "    greater = 0\n",
    "    for Id in IndicatorIDs:\n",
    "        if int(Id) in larger and int(Id) in PC:\n",
    "            common += 1\n",
    "            if PC[int(Id)] > larger[int(Id)]:\n",
    "                greater += 1\n",
    "    return common, greater"
   ]
  },
  {
   "cell_type": "code",
   "execution_count": null,
   "metadata": {},
   "outputs": [],
   "source": [
    "IndiaCommonAll = []\n",
    "IndiaGreaterAll = []\n",
    "StateCommonAll = []\n",
    "StateGreaterAll = []\n",
    "for i in [x for x in PC_Data['PC ID'].unique() if str(x) != 'nan']:\n",
    "    IndividualPCData = PC_Data[PC_Data['PC ID'] == i]\n",
    "    PCDict = {}\n",
    "    #IndiaCommon = 0\n",
    "    #IndiaGreater = 0\n",
    "    #StateCommon = 0\n",
    "    #StateGreater = 0\n",
    "    for index, row in IndividualPCData.iterrows():\n",
    "        if IndicatorDirection[row['Indicator ID']] == 1:\n",
    "            PCDict[row['Indicator ID']] = row['Prevalence 2021']\n",
    "        else:\n",
    "            PCDict[row['Indicator ID']] = -1*row['Prevalence 2021']\n",
    "    dataForState = StateIndicators[IDsToPC[i][1]] #State data for the PC\n",
    "    '''\n",
    "    for Id in IndicatorIDs:\n",
    "        if int(Id) in IndiaIndicators and int(Id) in PCDict:\n",
    "            IndiaCommon += 1\n",
    "            if PCDict[int(Id)] > IndiaIndicators[int(Id)]:\n",
    "                IndiaGreater += 1\n",
    "    for Id in IndicatorIDs:\n",
    "        if int(Id) in dataForState and int(Id) in PCDict:\n",
    "            StateCommon += 1\n",
    "            if PCDict[int(Id)] > dataForState[int(Id)]:\n",
    "                StateGreater += 1\n",
    "    '''\n",
    "    IndiaCommon, IndiaGreater = common_and_greater(PCDict, IndiaIndicators)\n",
    "    StateCommon, StateGreater = common_and_greater(PCDict, dataForState)\n",
    "    IndiaCommonAll.append(IndiaCommon)\n",
    "    IndiaGreaterAll.append(IndiaGreater)\n",
    "    StateCommonAll.append(StateCommon)\n",
    "    StateGreaterAll.append(StateGreater)\n",
    "\n",
    "data['India Common'] = IndiaCommonAll\n",
    "data['India Greater'] = IndiaGreaterAll\n",
    "data['State Common'] = StateCommonAll\n",
    "data['State Greater'] = StateGreaterAll #Finds how many indicators are in common and greater between the PC and State/India\n",
    "'''\n",
    "    if i==101 or i==102:\n",
    "        print(IndiaCommon)\n",
    "        print(IndiaGreater)\n",
    "        print(StateCommon)\n",
    "        print(StateGreater)\n",
    "'''"
   ]
  },
  {
   "cell_type": "code",
   "execution_count": null,
   "metadata": {},
   "outputs": [],
   "source": [
    "print(data['India Greater'])"
   ]
  },
  {
   "cell_type": "code",
   "execution_count": null,
   "metadata": {},
   "outputs": [],
   "source": [
    "#PC_Data.head() \n",
    "#IndicatorDirection[row['Indicator ID']]\n",
    "'''\n",
    "highestList = []\n",
    "lowestList = []\n",
    "for i in IDsToPC:\n",
    "    lowest = []\n",
    "    highest = []\n",
    "    ranks = {}\n",
    "    dataForPC = PC_Data[PC_Data['PC ID'] == i]\n",
    "    for index, row in dataForPC.iterrows():\n",
    "        if str(row['Prevalence Change']) != 'nan':\n",
    "            if IndicatorDirection[row['Indicator ID']] == 1:\n",
    "                ranks[row['Indicator ID']] = (row['Prevalence Change'])\n",
    "            else:\n",
    "                ranks[row['Indicator ID']] = (row['Prevalence Change']*-1)\n",
    "    sortedRanks = sorted(ranks.items(), key=lambda x:x[1])\n",
    "    for i in range(len(sortedRanks)):\n",
    "        print(sortedRanks)\n",
    "        if i <= 9:\n",
    "            lowest.append(IDsToIndicator[str(int(sortedRanks[i][0]))])\n",
    "        elif i >= len(sortedRanks)-10:\n",
    "            highest.append(IDsToIndicator[str(int(sortedRanks[i][0]))])\n",
    "    highestList.append(highest)\n",
    "    lowestList.append(lowest)\n",
    "\n",
    "data['Improvement Indicators'] = highestList\n",
    "data['Worsening Indicators'] = lowestList\n",
    "'''"
   ]
  },
  {
   "cell_type": "code",
   "execution_count": null,
   "metadata": {},
   "outputs": [],
   "source": [
    "\n",
    "highestDict = {}\n",
    "lowestDict = {}\n",
    "for i in IDsToPC:\n",
    "    ranks = {}\n",
    "    dataForPC = PC_Data[PC_Data['PC ID'] == i]\n",
    "    for index, row in dataForPC.iterrows():\n",
    "        if str(row['Prevalence Change']) != 'nan':\n",
    "            if IndicatorDirection[row['Indicator ID']] == 1:\n",
    "                ranks[row['Indicator ID']] = (row['Prevalence Change'])\n",
    "            else:\n",
    "                ranks[row['Indicator ID']] = (row['Prevalence Change']*-1)\n",
    "    sortedRanks = sorted(ranks.items(), key=lambda x:x[1])\n",
    "    for j in range(len(sortedRanks)):\n",
    "        if j <= 9:\n",
    "            if j+1 in lowestDict:\n",
    "                lowestDict[j+1].append(IDsToIndicator[str(int(sortedRanks[j][0]))])\n",
    "            else:\n",
    "                lowestDict[j+1] = [IDsToIndicator[str(int(sortedRanks[j][0]))]]\n",
    "        elif j >= len(sortedRanks)-10:\n",
    "            if (len(sortedRanks) - j) in highestDict:\n",
    "                highestDict[len(sortedRanks) - j].append(IDsToIndicator[str(int(sortedRanks[j][0]))])\n",
    "            else:\n",
    "                highestDict[len(sortedRanks) - j] = [IDsToIndicator[str(int(sortedRanks[j][0]))]]\n",
    "\n",
    "for i in highestDict:\n",
    "    data['Improvement Indicators ' + str(i)] = highestDict[i]\n",
    "\n",
    "for i in lowestDict:\n",
    "    data['Worsening Indicators ' + str(i)] = lowestDict[i]\n",
    "#Finds the indicators showing the most or least improvement"
   ]
  },
  {
   "cell_type": "code",
   "execution_count": null,
   "metadata": {},
   "outputs": [],
   "source": [
    "Highest_Improvement = []\n",
    "Improvement = []\n",
    "Worsened = []\n",
    "Extremely_Worsened = []\n",
    "TotalInds = []\n",
    "\n",
    "for i in IDsToPC:\n",
    "    hi = 0\n",
    "    imp = 0\n",
    "    w = 0\n",
    "    ew = 0\n",
    "    dataForPC = PC_Data[PC_Data['PC ID'] == i]\n",
    "    for index, row in dataForPC.iterrows():\n",
    "        if row['Prevalence Change Category '] == 1:\n",
    "            hi += 1\n",
    "        elif row['Prevalence Change Category '] == 2:\n",
    "            imp += 1\n",
    "        elif row['Prevalence Change Category '] == 3:\n",
    "            w += 1\n",
    "        elif row['Prevalence Change Category '] == 4:\n",
    "            ew += 1\n",
    "    Highest_Improvement.append(hi)\n",
    "    Improvement.append(imp)\n",
    "    Worsened.append(w)\n",
    "    Extremely_Worsened.append(ew)\n",
    "    TotalInds.append(hi+imp+w+ew)\n",
    "\n",
    "data['Highest Improvement'] = Highest_Improvement\n",
    "data['Improvement'] = Improvement\n",
    "data['Worsened'] = Worsened\n",
    "data['Extremely Worsened'] = Extremely_Worsened\n",
    "data['Indicators with Change Data'] = TotalInds\n",
    "\n",
    "#Finds the number of indicators of each category along with the total"
   ]
  },
  {
   "cell_type": "code",
   "execution_count": null,
   "metadata": {},
   "outputs": [],
   "source": [
    "for i in data:\n",
    "    if len(data[i]) != 543:\n",
    "        print(len(data[i]), i)"
   ]
  },
  {
   "cell_type": "code",
   "execution_count": null,
   "metadata": {},
   "outputs": [],
   "source": [
    "tempData = pd.DataFrame(data)"
   ]
  },
  {
   "cell_type": "code",
   "execution_count": null,
   "metadata": {},
   "outputs": [],
   "source": [
    "tempData.head()\n",
    "IDToImprovement = {}\n",
    "\n",
    "for index, row in tempData.iterrows():\n",
    "    IDToImprovement[row['ID']] = (row['Highest Improvement'] + row['Improvement']) / row['Indicators with Change Data']\n",
    "\n",
    "sortedImprovement = sorted(IDToImprovement.items(), key=lambda x:x[1])\n",
    "sortedImprovement.reverse()\n",
    "improvementNums = [i[1] for i in sortedImprovement]\n",
    "#print(improvementNums)\n",
    "\n",
    "list1 = []\n",
    "SharedBy = []\n",
    "\n",
    "for i in set(improvementNums):\n",
    "    list1.append(improvementNums.count(i))\n",
    "\n",
    "for i in list1:\n",
    "    for j in range(i):\n",
    "        SharedBy.append(i)\n",
    "\n",
    "#print(list1)\n",
    "\n",
    "tempList = [0]\n",
    "\n",
    "for i in list1:\n",
    "    tempList.append(i)\n",
    "\n",
    "improvementRanks = []\n",
    "\n",
    "for i in range(1,len(tempList)):\n",
    "    for j in range(tempList[i]):\n",
    "        improvementRanks.append(sum(tempList[0:i])+1)\n",
    "\n",
    "#print(SharedBy)\n",
    "\n",
    "improvementDict = {}\n",
    "\n",
    "for i in range(len(sortedImprovement)):\n",
    "    improvementDict[[i[0] for i in sortedImprovement][i]] = (improvementRanks[i], SharedBy[i])\n",
    "\n",
    "#print(improvementDict)\n",
    "\n",
    "myKeys = list(improvementDict.keys())\n",
    "myKeys.sort()\n",
    "sorted_dict = {i: improvementDict[i] for i in myKeys}\n",
    " \n",
    "print(sorted_dict)\n",
    "\n",
    "data['Ranks for Improvement'] = [sorted_dict[i][0] for i in sorted_dict]\n",
    "data['Ranks for Improvement Shared by'] = [sorted_dict[i][1] for i in sorted_dict]\n",
    "\n",
    "#Finds the rank for each indicator along with how many PCs share that rank"
   ]
  },
  {
   "cell_type": "code",
   "execution_count": null,
   "metadata": {},
   "outputs": [],
   "source": [
    "India_Data.head()\n",
    "\n",
    "for index, row in India_Data.iterrows():\n",
    "    IndicatorIndiaData = []\n",
    "    for j in range(len(data['ID'])):\n",
    "        IndicatorIndiaData.append(row['All India Prevalence 2021'])\n",
    "    data[IDsToIndicator[str(int(row['Indicator ID']))] + ' India'] = IndicatorIndiaData\n",
    "\n",
    "#Puts the data for India into every row of the new dataset"
   ]
  },
  {
   "cell_type": "code",
   "execution_count": null,
   "metadata": {},
   "outputs": [],
   "source": [
    "print(IndicatorIDs)\n",
    "for id in IndicatorIDs:\n",
    "    PCHex = []\n",
    "    PCPrevalence = []\n",
    "    PCChange = []\n",
    "    StateInds = []\n",
    "    for pc in IDsToPC:\n",
    "        sub = PC_Data[PC_Data['PC ID'] == pc]\n",
    "        rowForPC = sub[sub['Indicator ID'] == int(id)]\n",
    "        for index, row in rowForPC.iterrows():\n",
    "            PCPrevalence.append(row['Prevalence 2021'])\n",
    "            PCChange.append(row['Prevalence Change'])\n",
    "            if row['Prevalence Change Category '] == 1:\n",
    "                PCHex.append('#2E7265')\n",
    "            elif row['Prevalence Change Category '] == 2:\n",
    "                PCHex.append('#6D9F95')\n",
    "            elif row['Prevalence Change Category '] == 3:\n",
    "                PCHex.append('#E87D7F')\n",
    "            elif row['Prevalence Change Category '] == 4:\n",
    "                PCHex.append('#DF4649')\n",
    "            else:\n",
    "                PCHex.append('nan') \n",
    "            state = StateToID[IDsToPC[pc][1]]\n",
    "            sub = State_Data[State_Data['State ID'] == state]\n",
    "            rowForState = sub[sub['Indicator ID'] == int(id)]\n",
    "            for i, r in rowForState.iterrows():\n",
    "                StateInds.append(r['State Prevalence 2021'])\n",
    "        data[IDsToIndicator[id] + ' State'] = StateInds\n",
    "        data[IDsToIndicator[id] + ' PC'] = PCPrevalence\n",
    "        data[IDsToIndicator[id] + ' PC Change'] = PCChange\n",
    "        data[IDsToIndicator[id] + ' PC Hex'] = PCHex\n",
    "#Puts the state indicator values and PC indicator values into the dataset"
   ]
  },
  {
   "cell_type": "code",
   "execution_count": null,
   "metadata": {},
   "outputs": [],
   "source": [
    "for i in data:\n",
    "    if len(data[i]) != 543:\n",
    "        print(i, len(data[i]))"
   ]
  },
  {
   "cell_type": "code",
   "execution_count": null,
   "metadata": {},
   "outputs": [],
   "source": [
    "df = pd.DataFrame(data)\n",
    "df = df.drop('ID', axis=1)"
   ]
  },
  {
   "cell_type": "code",
   "execution_count": null,
   "metadata": {},
   "outputs": [],
   "source": [
    "df.head(543)"
   ]
  },
  {
   "cell_type": "code",
   "execution_count": null,
   "metadata": {},
   "outputs": [],
   "source": [
    "df.to_csv('new_data.csv', index=False)"
   ]
  }
 ],
 "metadata": {
  "interpreter": {
   "hash": "26c34910d3e46b81540bbdb6a2445b141ab6fb5814fa952137776bed88677efa"
  },
  "kernelspec": {
   "display_name": "Python 3.7.13 ('tf')",
   "language": "python",
   "name": "python3"
  },
  "language_info": {
   "codemirror_mode": {
    "name": "ipython",
    "version": 3
   },
   "file_extension": ".py",
   "mimetype": "text/x-python",
   "name": "python",
   "nbconvert_exporter": "python",
   "pygments_lexer": "ipython3",
   "version": "3.7.13"
  },
  "orig_nbformat": 4
 },
 "nbformat": 4,
 "nbformat_minor": 2
}
